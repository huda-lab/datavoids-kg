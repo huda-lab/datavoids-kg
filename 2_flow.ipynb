{
 "cells": [
  {
   "cell_type": "code",
   "execution_count": null,
   "id": "394ec969-72b1-43e1-b143-23fb0460bf36",
   "metadata": {},
   "outputs": [],
   "source": [
    "import os\n",
    "results_folder = \"./results/generated_candidates/FB15k-237\"\n",
    "\n",
    "\n",
    "# get all folders in the results folder\n",
    "relation_folders = [f for f in os.listdir(results_folder) if os.path.isdir(os.path.join(results_folder, f))]\n",
    "\n",
    "# for each folder, get the .json file with the same name as the folder\n",
    "for folder in relation_folders:\n",
    "    folder_path = os.path.join(results_folder, folder)\n",
    "    # get the name of the folder and add .json to it\n",
    "    json_file = folder + \".json\"\n",
    "    \n"
   ]
  }
 ],
 "metadata": {
  "kernelspec": {
   "display_name": "jr-env",
   "language": "python",
   "name": "jr-env"
  },
  "language_info": {
   "codemirror_mode": {
    "name": "ipython",
    "version": 3
   },
   "file_extension": ".py",
   "mimetype": "text/x-python",
   "name": "python",
   "nbconvert_exporter": "python",
   "pygments_lexer": "ipython3",
   "version": "3.9.12"
  }
 },
 "nbformat": 4,
 "nbformat_minor": 5
}
