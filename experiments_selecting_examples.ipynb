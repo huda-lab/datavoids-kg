{
 "cells": [
  {
   "cell_type": "code",
   "execution_count": 2,
   "id": "88decbc9",
   "metadata": {},
   "outputs": [],
   "source": [
    "%load_ext autoreload\n",
    "%autoreload 2"
   ]
  },
  {
   "cell_type": "code",
   "execution_count": 3,
   "id": "a83e69ed",
   "metadata": {},
   "outputs": [],
   "source": [
    "from Kelpie.dataset import Dataset\n",
    "import numpy as np\n",
    "import pandas as pd\n",
    "from helpers.helpers import print_fact, extract_subgraph_of_kg, print_entity_id, print_sample, find_head_tail_rel\n",
    "from helpers.kelpie_models_helpers import train_complex\n",
    "from helpers.knowledge_graph_simulation_experiment import KnowledgeGraphMitigationExperiment\n",
    "from helpers.candidate_selection_helpers import preview_samples_from_rel\n",
    "import json"
   ]
  },
  {
   "cell_type": "code",
   "execution_count": 4,
   "id": "cc0df19c",
   "metadata": {},
   "outputs": [],
   "source": [
    "\n",
    "fb15k237_path = 'Kelpie_package/Kelpie/data/FB15k-237'\n",
    "train_path = fb15k237_path + '/train.txt'\n",
    "test_path = fb15k237_path + '/test.txt'\n",
    "valid_path = fb15k237_path + '/valid.txt'\n",
    "fb15k237_dataset = Dataset(name=\"FB15k-237\", load=True, train_path=train_path, test_path=test_path, valid_path=valid_path)\n",
    "\n",
    "train_test_valid_paths = [train_path, test_path, valid_path]\n",
    "label_map_path = 'entity2wikidata.json'\n",
    "label_map = json.load(open(label_map_path))"
   ]
  },
  {
   "cell_type": "markdown",
   "id": "0e515986",
   "metadata": {},
   "source": [
    "## Facts with 1-to-m Relations"
   ]
  },
  {
   "cell_type": "code",
   "execution_count": 4,
   "id": "39778b09",
   "metadata": {},
   "outputs": [
    {
     "name": "stdout",
     "output_type": "stream",
     "text": [
      "/film/special_film_performance_type/film_performance_type./film/performance/film\n",
      "/organization/role/leaders./organization/leadership/organization\n",
      "/base/locations/continents/countries_within\n",
      "/location/country/second_level_divisions\n",
      "/sports/sports_team_location/teams\n",
      "/film/director/film\n",
      "/sports/sport/pro_athletes./sports/pro_sports_played/athlete\n",
      "/award/hall_of_fame/inductees./award/hall_of_fame_induction/inductee\n",
      "/sports/sports_league/teams./sports/sports_league_participation/team\n",
      "/medicine/disease/notable_people_with_this_condition\n",
      "/people/marriage_union_type/unions_of_this_type./people/marriage/location_of_ceremony\n",
      "/government/political_party/politicians_in_this_party./government/political_party_tenure/politician\n",
      "/tv/non_character_role/tv_regular_personal_appearances./tv/tv_regular_personal_appearance/person\n",
      "/base/americancomedy/celebrity_impressionist/celebrities_impersonated\n"
     ]
    }
   ],
   "source": [
    "ids = []\n",
    "for idx in fb15k237_dataset.relation_2_type:\n",
    "    if fb15k237_dataset.relation_2_type[idx] == '1-N':\n",
    "        ids.append(idx)\n",
    "        print(fb15k237_dataset.get_name_for_relation_id(idx))\n",
    "        # (?, r, ?)\n",
    "\n",
    "        "
   ]
  },
  {
   "cell_type": "markdown",
   "id": "9dd135ee",
   "metadata": {},
   "source": [
    "### Politicians belonging to which party"
   ]
  },
  {
   "cell_type": "code",
   "execution_count": 15,
   "id": "0d55ce9e",
   "metadata": {},
   "outputs": [
    {
     "name": "stdout",
     "output_type": "stream",
     "text": [
      "Communist Party of the Soviet Union /government/political_party/politicians_in_this_party./government/political_party_tenure/politician Vladimir Lenin\n",
      "Democratic Party /government/political_party/politicians_in_this_party./government/political_party_tenure/politician James A. Michener\n",
      "Communist Party of the Soviet Union /government/political_party/politicians_in_this_party./government/political_party_tenure/politician Georgy Zhukov\n",
      "Democratic Party /government/political_party/politicians_in_this_party./government/political_party_tenure/politician Lewis Cass\n",
      "Canadian Alliance /government/political_party/politicians_in_this_party./government/political_party_tenure/politician Stephen Harper\n"
     ]
    }
   ],
   "source": [
    "rel = '/government/political_party/politicians_in_this_party./government/political_party_tenure/politician'\n",
    "rel_id = fb15k237_dataset.get_id_for_relation_name(rel)\n",
    "\n",
    "res = find_head_tail_rel(fb15k237_dataset, rel_id=rel_id)\n",
    "\n",
    "for s in list(res)[:5]:\n",
    "    print_sample(s, fb15k237_dataset, label_map)\n",
    "\n"
   ]
  },
  {
   "cell_type": "markdown",
   "id": "370554ef",
   "metadata": {},
   "source": [
    "### Film Directors"
   ]
  },
  {
   "cell_type": "code",
   "execution_count": 7,
   "id": "2666ebc0",
   "metadata": {},
   "outputs": [],
   "source": [
    "film_director = '/film/director/film'\n",
    "film_director_id = fb15k237_dataset.get_id_for_relation_name(film_director)"
   ]
  },
  {
   "cell_type": "code",
   "execution_count": 3,
   "id": "41caa63f",
   "metadata": {},
   "outputs": [],
   "source": [
    "experiment_inputs = []\n",
    "\n",
    "for i in range(1, 8):\n",
    "    with open(f'experiment_inputs/input_{i}.txt', 'r') as input:\n",
    "        good_fact, bad_fact = input.readlines()\n",
    "        good_fact = good_fact.strip().split('-')\n",
    "        bad_fact = bad_fact.strip().split('-')\n",
    "        experiment_inputs.append((good_fact, bad_fact))\n"
   ]
  },
  {
   "cell_type": "code",
   "execution_count": 7,
   "id": "65cdc548",
   "metadata": {},
   "outputs": [
    {
     "name": "stdout",
     "output_type": "stream",
     "text": [
      "Ben Affleck /film/director/film The Town\n",
      "Ben Affleck /film/director/film Argo\n",
      "Num overlapping facts: 3\n",
      "Ranking: [1, 2]\n",
      "\n",
      "Steven Spielberg /film/director/film Amistad\n",
      "Steven Spielberg /film/director/film Saving Private Ryan\n",
      "Num overlapping facts: 4\n",
      "Ranking: [1, 2]\n",
      "\n",
      "Steven Spielberg /film/director/film The Adventures of Tintin\n",
      "Steven Spielberg /film/director/film Saving Private Ryan\n",
      "Num overlapping facts: 5\n",
      "Ranking: [5, 1]\n",
      "\n"
     ]
    }
   ],
   "source": [
    "import json\n",
    "with open('experiment_candidates/candidate_1.json', 'r') as f:\n",
    "    data = json.load(f)\n",
    "    for good_fact, bad_fact in experiment_inputs:\n",
    "        for candidate in data:\n",
    "            if ''.join(candidate[0]) == ''.join(good_fact) and ''.join(candidate[1]) == ''.join(bad_fact):\n",
    "                print_fact(candidate[0], label_map)\n",
    "                print_fact(candidate[1], label_map)\n",
    "                print(\"Num overlapping facts:\", end=' ')\n",
    "                print(candidate[3])\n",
    "                print(\"Ranking:\", end=' ')\n",
    "                print(candidate[2])\n",
    "                print()\n",
    "                break\n",
    "\n",
    "\n"
   ]
  },
  {
   "cell_type": "code",
   "execution_count": 14,
   "id": "941e01e8-03e1-4277-9677-ab540f9a3d00",
   "metadata": {},
   "outputs": [
    {
     "name": "stdout",
     "output_type": "stream",
     "text": [
      "Ben Affleck /film/director/film The Town\n",
      "Ben Affleck /film/director/film Argo\n",
      "3\n",
      "[1, 2]\n",
      "\n",
      "Steven Spielberg /film/director/film Amistad\n",
      "Steven Spielberg /film/director/film Saving Private Ryan\n",
      "4\n",
      "[1, 2]\n",
      "\n",
      "Steven Spielberg /film/director/film The Adventures of Tintin\n",
      "Steven Spielberg /film/director/film Saving Private Ryan\n",
      "5\n",
      "[5, 1]\n",
      "\n"
     ]
    }
   ],
   "source": [
    "import json\n",
    "with open('experiment_candidates/candidate_1.json', 'r') as f:\n",
    "    data = json.load(f)\n",
    "    data.sort(key=lambda x:x[3])\n",
    "    finalist_candidates = data[:3]\n",
    "    i = 1\n",
    "    for candidate in finalist_candidates:\n",
    "        print_fact(candidate[0], label_map)\n",
    "        print_fact(candidate[1], label_map)\n",
    "        print(candidate[3])\n",
    "        print(candidate[2])\n",
    "        print()\n",
    "        with open(f'experiment_inputs/input_{i}.txt', 'w') as outF:\n",
    "            outF.write('-'.join(candidate[0]) + '\\n')\n",
    "            outF.write('-'.join(candidate[1]))\n",
    "        i+=1"
   ]
  },
  {
   "cell_type": "markdown",
   "id": "1a5a8091",
   "metadata": {},
   "source": [
    "### Hall of Fame Inductees"
   ]
  },
  {
   "cell_type": "code",
   "execution_count": 11,
   "id": "136b4e2d",
   "metadata": {},
   "outputs": [
    {
     "name": "stdout",
     "output_type": "stream",
     "text": [
      "Rock and Roll Hall of Fame /award/hall_of_fame/inductees./award/hall_of_fame_induction/inductee Pink Floyd\n",
      "Rock and Roll Hall of Fame /award/hall_of_fame/inductees./award/hall_of_fame_induction/inductee Santana\n",
      "Rock and Roll Hall of Fame /award/hall_of_fame/inductees./award/hall_of_fame_induction/inductee Aerosmith\n",
      "Television Hall of Fame /award/hall_of_fame/inductees./award/hall_of_fame_induction/inductee George Burns\n",
      "Hollywood Walk of Fame /award/hall_of_fame/inductees./award/hall_of_fame_induction/inductee Julie Andrews\n"
     ]
    }
   ],
   "source": [
    "from helpers.helpers import find_head_tail_rel, print_sample\n",
    "inductee = \"/award/hall_of_fame/inductees./award/hall_of_fame_induction/inductee\"\n",
    "inductee_id = fb15k237_dataset.get_id_for_relation_name(inductee)\n",
    "res = find_head_tail_rel(fb15k237_dataset, rel_id=inductee_id)\n",
    "\n",
    "for s in list(res)[:5]:\n",
    "    print_sample(s, fb15k237_dataset, label_map)\n",
    "\n"
   ]
  },
  {
   "cell_type": "markdown",
   "id": "af6ed980",
   "metadata": {},
   "source": [
    "### Sports Team"
   ]
  },
  {
   "cell_type": "code",
   "execution_count": 13,
   "id": "1c14eff1",
   "metadata": {},
   "outputs": [
    {
     "name": "stdout",
     "output_type": "stream",
     "text": [
      "EFL Championship /sports/sports_league/teams./sports/sports_league_participation/team Coventry City F.C.\n",
      "Serie A /sports/sports_league/teams./sports/sports_league_participation/team A.S. Roma\n",
      "EFL Championship /sports/sports_league/teams./sports/sports_league_participation/team Ipswich Town F.C.\n",
      "National Football League /sports/sports_league/teams./sports/sports_league_participation/team Houston Texans\n",
      "National Football League /sports/sports_league/teams./sports/sports_league_participation/team Miami Dolphins\n"
     ]
    }
   ],
   "source": [
    "sports = '/sports/sports_league/teams./sports/sports_league_participation/team'\n",
    "sports_id = fb15k237_dataset.get_id_for_relation_name(sports)\n",
    "res = find_head_tail_rel(fb15k237_dataset, rel_id = sports_id)\n",
    "\n",
    "for s in list(res)[:5]:\n",
    "    print_sample(s, fb15k237_dataset, label_map)"
   ]
  },
  {
   "cell_type": "markdown",
   "id": "5b92d572",
   "metadata": {},
   "source": [
    "### Organization Leadership"
   ]
  },
  {
   "cell_type": "code",
   "execution_count": 14,
   "id": "ca231b8e",
   "metadata": {},
   "outputs": [
    {
     "name": "stdout",
     "output_type": "stream",
     "text": [
      "chief executive officer /organization/role/leaders./organization/leadership/organization General Dynamics\n",
      "president /organization/role/leaders./organization/leadership/organization Duquesne University\n",
      "chief executive officer /organization/role/leaders./organization/leadership/organization Cash Money Records\n",
      "president /organization/role/leaders./organization/leadership/organization Brown University\n",
      "dean /organization/role/leaders./organization/leadership/organization Northwestern University School of Law\n"
     ]
    }
   ],
   "source": [
    "leadership = '/organization/role/leaders./organization/leadership/organization'\n",
    "leadership_id = fb15k237_dataset.get_id_for_relation_name(leadership)\n",
    "res = find_head_tail_rel(fb15k237_dataset, rel_id = leadership_id)\n",
    "\n",
    "for s in list(res)[:5]:\n",
    "    print_sample(s, fb15k237_dataset, label_map)\n"
   ]
  },
  {
   "cell_type": "markdown",
   "id": "2ff8a4c0",
   "metadata": {},
   "source": [
    "## M-to-M Relations"
   ]
  },
  {
   "cell_type": "code",
   "execution_count": 5,
   "id": "416891c7-3b2a-402e-885d-72fe8625e61c",
   "metadata": {},
   "outputs": [
    {
     "name": "stdout",
     "output_type": "stream",
     "text": [
      "/location/country/form_of_government\n",
      "/tv/tv_program/regular_cast./tv/regular_tv_appearance/actor\n",
      "/media_common/netflix_genre/titles\n",
      "/award/award_winner/awards_won./award/award_honor/award_winner\n",
      "/soccer/football_team/current_roster./sports/sports_team_roster/position\n",
      "/soccer/football_team/current_roster./soccer/football_roster_position/position\n",
      "/film/actor/film./film/performance/film\n",
      "/award/award_category/nominees./award/award_nomination/nominated_for\n",
      "/award/award_nominee/award_nominations./award/award_nomination/award_nominee\n",
      "/music/performance_role/regular_performances./music/group_membership/role\n",
      "/award/award_category/winners./award/award_honor/ceremony\n",
      "/award/award_winning_work/awards_won./award/award_honor/award_winner\n",
      "/film/film/release_date_s./film/film_regional_release_date/film_release_region\n",
      "/film/film/language\n",
      "/location/location/contains\n",
      "/people/person/profession\n",
      "/location/statistical_region/religions./location/religion_percentage/religion\n",
      "/award/award_nominee/award_nominations./award/award_nomination/award\n",
      "/music/genre/artists\n",
      "/influence/influence_node/influenced_by\n",
      "/education/educational_institution/students_graduates./education/education/student\n",
      "/organization/organization_member/member_of./organization/organization_membership/organization\n",
      "/film/film/other_crew./film/film_crew_gig/film_crew_role\n",
      "/award/award_ceremony/awards_presented./award/award_honor/award_winner\n",
      "/film/film/country\n",
      "/olympics/olympic_sport/athletes./olympics/olympic_athlete_affiliation/country\n",
      "/award/award_winning_work/awards_won./award/award_honor/award\n",
      "/film/film/genre\n",
      "/film/film_distributor/films_distributed./film/film_film_distributor_relationship/film\n",
      "/government/legislative_session/members./government/government_position_held/district_represented\n",
      "/sports/sports_team/roster./american_football/football_historical_roster_position/position_s\n",
      "/government/government_office_category/officeholders./government/government_position_held/jurisdiction_of_office\n",
      "/award/award_nominee/award_nominations./award/award_nomination/nominated_for\n",
      "/sports/pro_athlete/teams./sports/sports_team_roster/team\n",
      "/music/artist/track_contributions./music/track_contribution/role\n",
      "/music/instrument/instrumentalists\n",
      "/business/job_title/people_with_this_title./business/employment_tenure/company\n",
      "/base/popstra/celebrity/friendship./base/popstra/friendship/participant\n",
      "/business/business_operation/industry\n",
      "/award/award_category/winners./award/award_honor/award_winner\n",
      "/sports/sports_team/roster./baseball/baseball_roster_position/position\n",
      "/people/cause_of_death/people\n",
      "/music/genre/parent_genre\n",
      "/base/popstra/celebrity/breakup./base/popstra/breakup/participant\n",
      "/music/performance_role/guest_performances./music/recording_contribution/performance_role\n",
      "/location/location/adjoin_s./location/adjoining_relationship/adjoins\n",
      "/film/film_subject/films\n",
      "/education/educational_institution/colors\n",
      "/government/legislative_session/members./government/government_position_held/legislative_sessions\n",
      "/olympics/olympic_games/sports\n",
      "/people/person/places_lived./people/place_lived/location\n",
      "/award/award_category/disciplines_or_subjects\n",
      "/sports/professional_sports_team/draft_picks./sports/sports_league_draft_pick/school\n",
      "/olympics/olympic_participating_country/medals_won./olympics/olympic_medal_honor/olympics\n",
      "/language/human_language/countries_spoken_in\n",
      "/people/ethnicity/people\n",
      "/olympics/olympic_participating_country/athletes./olympics/olympic_athlete_affiliation/olympics\n",
      "/olympics/olympic_participating_country/medals_won./olympics/olympic_medal_honor/medal\n",
      "/film/film/other_crew./film/film_crew_gig/crewmember\n",
      "/music/performance_role/track_performances./music/track_contribution/role\n",
      "/music/record_label/artist\n",
      "/base/popstra/celebrity/dated./base/popstra/dated/participant\n",
      "/sports/sports_league_draft/picks./sports/sports_league_draft_pick/school\n",
      "/film/film/produced_by\n",
      "/film/film/production_companies\n",
      "/base/culturalevent/event/entity_involved\n",
      "/education/educational_degree/people_with_this_degree./education/education/institution\n",
      "/film/film/distributors./film/film_film_distributor_relationship/film_distribution_medium\n",
      "/music/performance_role/regular_performances./music/group_membership/group\n",
      "/government/politician/government_positions_held./government/government_position_held/legislative_sessions\n",
      "/sports/sports_team/colors\n",
      "/sports/professional_sports_team/draft_picks./sports/sports_league_draft_pick/draft\n",
      "/award/award_nominated_work/award_nominations./award/award_nomination/nominated_for\n",
      "/baseball/baseball_team/team_stats./baseball/baseball_team_stats/season\n",
      "/user/alexander/philosophy/philosopher/interests\n",
      "/people/person/languages\n",
      "/education/educational_institution/students_graduates./education/education/major_field_of_study\n",
      "/award/award_ceremony/awards_presented./award/award_honor/honored_for\n",
      "/olympics/olympic_sport/athletes./olympics/olympic_athlete_affiliation/olympics\n",
      "/film/film/featured_film_locations\n",
      "/tv/tv_program/genre\n",
      "/film/film/written_by\n",
      "/education/educational_degree/people_with_this_degree./education/education/major_field_of_study\n",
      "/base/schemastaging/organization_extra/phone_number./base/schemastaging/phone_sandbox/contact_category\n",
      "/base/saturdaynightlive/snl_cast_member/seasons./base/saturdaynightlive/snl_season_tenure/cast_members\n",
      "/sports/sports_team/roster./american_football/football_roster_position/position\n",
      "/celebrities/celebrity/celebrity_friends./celebrities/friendship/friend\n",
      "/base/x2010fifaworldcupsouthafrica/world_cup_squad/current_world_cup_squad./base/x2010fifaworldcupsouthafrica/current_world_cup_squad/current_club\n",
      "/base/popstra/location/vacationers./base/popstra/vacation_choice/vacationer\n",
      "/base/popstra/celebrity/canoodled./base/popstra/canoodled/participant\n",
      "/education/educational_institution/school_type\n",
      "/sports/sports_position/players./sports/sports_team_roster/team\n",
      "/military/military_conflict/combatants./military/military_combatant_group/combatants\n",
      "/music/group_member/membership./music/group_membership/role\n",
      "/film/film/executive_produced_by\n",
      "/food/food/nutrients./food/nutrition_fact/nutrient\n",
      "/music/group_member/membership./music/group_membership/group\n",
      "/education/field_of_study/students_majoring./education/education/student\n",
      "/award/award_winning_work/awards_won./award/award_honor/honored_for\n",
      "/sports/sports_team/roster./basketball/basketball_roster_position/position\n",
      "/tv/tv_producer/programs_produced./tv/tv_producer_term/program\n",
      "/film/film/distributors./film/film_film_distributor_relationship/region\n",
      "/travel/travel_destination/climate./travel/travel_destination_monthly_climate/month\n",
      "/base/schemastaging/organization_extra/phone_number./base/schemastaging/phone_sandbox/service_location\n",
      "/people/ethnicity/geographic_distribution\n",
      "/military/military_combatant/military_conflicts./military/military_combatant_group/combatants\n",
      "/film/film/personal_appearances./film/personal_film_appearance/person\n",
      "/film/film/story_by\n",
      "/base/petbreeds/city_with_dogs/top_breeds./base/petbreeds/dog_city_relationship/dog_breed\n",
      "/olympics/olympic_games/participating_countries\n",
      "/tv/tv_network/programs./tv/tv_network_duration/program\n",
      "/people/person/employment_history./business/employment_tenure/company\n",
      "/tv/tv_writer/tv_programs./tv/tv_program_writer_relationship/tv_program\n",
      "/time/event/locations\n",
      "/celebrities/celebrity/sexual_relationships./celebrities/romantic_relationship/celebrity\n",
      "/user/ktrueman/default_domain/international_organization/member_states\n",
      "/american_football/football_team/current_roster./sports/sports_team_roster/position\n",
      "/soccer/football_player/current_team./sports/sports_team_roster/team\n",
      "/olympics/olympic_games/medals_awarded./olympics/olympic_medal_honor/medal\n",
      "/award/ranked_item/appears_in_ranked_lists./award/ranking/list\n",
      "/film/film_set_designer/film_sets_designed\n",
      "/user/jg/default_domain/olympic_games/sports\n",
      "/people/person/sibling_s./people/sibling_relationship/sibling\n",
      "/base/marchmadness/ncaa_basketball_tournament/seeds./base/marchmadness/ncaa_tournament_seed/team\n",
      "/music/artist/contribution./music/recording_contribution/performance_role\n",
      "/sports/sports_position/players./sports/sports_team_roster/position\n",
      "/government/politician/government_positions_held./government/government_position_held/basic_title\n",
      "/sports/sports_position/players./american_football/football_historical_roster_position/position_s\n",
      "/tv/tv_personality/tv_regular_appearances./tv/tv_regular_personal_appearance/program\n",
      "/education/field_of_study/students_majoring./education/education/major_field_of_study\n",
      "/education/educational_degree/people_with_this_degree./education/education/student\n",
      "/film/film/film_festivals\n",
      "/film/film/runtime./film/film_cut/film_release_region\n",
      "/influence/influence_node/peers./influence/peer_relationship/peers\n",
      "/government/governmental_body/members./government/government_position_held/legislative_sessions\n",
      "/base/schemastaging/organization_extra/phone_number./base/schemastaging/phone_sandbox/service_language\n",
      "/tv/tv_program/program_creator\n",
      "/film/film/release_date_s./film/film_regional_release_date/film_regional_debut_venue\n",
      "/ice_hockey/hockey_team/current_roster./sports/sports_team_roster/position\n",
      "/organization/organization/child./organization/organization_relationship/child\n",
      "/people/ethnicity/languages_spoken\n",
      "/medicine/symptom/symptom_of\n",
      "/education/university/fraternities_and_sororities\n",
      "/location/statistical_region/places_exported_to./location/imports_and_exports/exported_to\n",
      "/travel/travel_destination/how_to_get_here./travel/transportation/mode_of_transportation\n",
      "/location/country/official_language\n",
      "/location/location/partially_contains\n",
      "/organization/organization_founder/organizations_founded\n",
      "/film/film/dubbing_performances./film/dubbing_performance/actor\n",
      "/medicine/disease/risk_factors\n",
      "/base/localfood/seasonal_month/produce_available./base/localfood/produce_availability/seasonal_months\n",
      "/broadcast/content/artist\n",
      "/music/instrument/family\n",
      "/government/politician/government_positions_held./government/government_position_held/jurisdiction_of_office\n"
     ]
    }
   ],
   "source": [
    "ids = []\n",
    "for idx in fb15k237_dataset.relation_2_type:\n",
    "    if fb15k237_dataset.relation_2_type[idx] == 'N-N':\n",
    "        ids.append(idx)\n",
    "        print(fb15k237_dataset.get_name_for_relation_id(idx))"
   ]
  },
  {
   "cell_type": "markdown",
   "id": "4531de57",
   "metadata": {},
   "source": [
    "### Business Industry"
   ]
  },
  {
   "cell_type": "code",
   "execution_count": 20,
   "id": "471ddbc1",
   "metadata": {},
   "outputs": [
    {
     "name": "stdout",
     "output_type": "stream",
     "text": [
      "Morgan Stanley /business/business_operation/industry investment bank\n",
      "Amazon /business/business_operation/industry retail\n",
      "Happy Madison /business/business_operation/industry film\n",
      "Natsume /business/business_operation/industry video game\n",
      "KLM /business/business_operation/industry airline\n"
     ]
    }
   ],
   "source": [
    "preview_samples_from_rel('/business/business_operation/industry', fb15k237_dataset, label_map)"
   ]
  },
  {
   "cell_type": "markdown",
   "id": "11c67b65",
   "metadata": {},
   "source": [
    "We could use this but I don't see how many business would have multiple industries"
   ]
  },
  {
   "cell_type": "markdown",
   "id": "0377ae07",
   "metadata": {},
   "source": [
    "### Nominated For"
   ]
  },
  {
   "cell_type": "code",
   "execution_count": 19,
   "id": "677a7458",
   "metadata": {},
   "outputs": [
    {
     "name": "stdout",
     "output_type": "stream",
     "text": [
      "James Wong Howe /award/award_nominee/award_nominations./award/award_nomination/nominated_for Hud\n",
      "Nicolas Cage /award/award_nominee/award_nominations./award/award_nomination/nominated_for National Treasure: Book of Secrets\n",
      "Harry Shearer /award/award_nominee/award_nominations./award/award_nomination/nominated_for This Is Spinal Tap\n",
      "Antonio Banderas /award/award_nominee/award_nominations./award/award_nomination/nominated_for The Mask of Zorro\n",
      "Michael Giacchino /award/award_nominee/award_nominations./award/award_nomination/nominated_for Star Trek\n"
     ]
    }
   ],
   "source": [
    "preview_samples_from_rel('/award/award_nominee/award_nominations./award/award_nomination/nominated_for', fb15k237_dataset, label_map)"
   ]
  },
  {
   "cell_type": "markdown",
   "id": "0b6fe2cf",
   "metadata": {},
   "source": [
    "This could work too"
   ]
  },
  {
   "cell_type": "markdown",
   "id": "01c6f67f",
   "metadata": {},
   "source": [
    "### Film Country"
   ]
  },
  {
   "cell_type": "code",
   "execution_count": 18,
   "id": "ca35663d",
   "metadata": {},
   "outputs": [
    {
     "name": "stdout",
     "output_type": "stream",
     "text": [
      "2046 /film/film/country Hong Kong\n",
      "The Chronicles of Narnia: Prince Caspian /film/film/country Czech Republic\n",
      "The Polar Express /film/film/country United States of America\n",
      "Face/Off /film/film/country United States of America\n",
      "A League of Their Own /film/film/country United States of America\n"
     ]
    }
   ],
   "source": [
    "preview_samples_from_rel('/film/film/country', fb15k237_dataset, label_map)"
   ]
  },
  {
   "cell_type": "markdown",
   "id": "528d4c86",
   "metadata": {},
   "source": [
    "We can try to use this as well"
   ]
  },
  {
   "cell_type": "markdown",
   "id": "42da57b7",
   "metadata": {},
   "source": [
    "### Profession"
   ]
  },
  {
   "cell_type": "code",
   "execution_count": 17,
   "id": "de9dc620",
   "metadata": {},
   "outputs": [
    {
     "name": "stdout",
     "output_type": "stream",
     "text": [
      "Julianna Margulies /people/person/profession television producer\n",
      "Michael Powell /people/person/profession actor\n",
      "Asia Argento /people/person/profession film director\n",
      "Grace Jones /people/person/profession actor\n",
      "Charles Mingus Jr. /people/person/profession bandleader\n"
     ]
    }
   ],
   "source": [
    "preview_samples_from_rel('/people/person/profession', fb15k237_dataset, label_map)"
   ]
  },
  {
   "cell_type": "markdown",
   "id": "6a2b92cc",
   "metadata": {},
   "source": [
    "We can use profession!"
   ]
  },
  {
   "cell_type": "markdown",
   "id": "ac1143d5",
   "metadata": {},
   "source": [
    "### Award Nominee"
   ]
  },
  {
   "cell_type": "code",
   "execution_count": 16,
   "id": "38457ff5",
   "metadata": {},
   "outputs": [
    {
     "name": "stdout",
     "output_type": "stream",
     "text": [
      "Marilyn Bergman /award/award_nominee/award_nominations./award/award_nomination/award_nominee Marvin Hamlisch\n",
      "Dennis Cromwell /award/award_nominee/award_nominations./award/award_nomination/award_nominee Russell Crowe\n",
      "Stephen Graham /award/award_nominee/award_nominations./award/award_nomination/award_nominee Shea Whigham\n",
      "Demi Moore /award/award_nominee/award_nominations./award/award_nomination/award_nominee Joshua Jackson\n",
      "Julie Bowen /award/award_nominee/award_nominations./award/award_nomination/award_nominee Candice Bergen\n"
     ]
    }
   ],
   "source": [
    "preview_samples_from_rel('/award/award_nominee/award_nominations./award/award_nomination/award_nominee', fb15k237_dataset, label_map)"
   ]
  },
  {
   "cell_type": "markdown",
   "id": "c085ac1e",
   "metadata": {},
   "source": [
    "### Award winner"
   ]
  },
  {
   "cell_type": "code",
   "execution_count": 9,
   "id": "1ab19f62",
   "metadata": {},
   "outputs": [
    {
     "name": "stdout",
     "output_type": "stream",
     "text": [
      "Christina Hendricks /award/award_winner/awards_won./award/award_honor/award_winner Elisabeth Moss\n",
      "Ariel Winter /award/award_winner/awards_won./award/award_honor/award_winner Ty Burrell\n",
      "Betty Comden /award/award_winner/awards_won./award/award_honor/award_winner Jule Styne\n",
      "Rory Cochrane /award/award_winner/awards_won./award/award_honor/award_winner Bryan Cranston\n",
      "Kanye West /award/award_winner/awards_won./award/award_honor/award_winner T-Pain\n"
     ]
    }
   ],
   "source": [
    "rel = '/award/award_winner/awards_won./award/award_honor/award_winner'\n",
    "rel_id = fb15k237_dataset.get_id_for_relation_name(rel)\n",
    "res = find_head_tail_rel(fb15k237_dataset, rel_id = rel_id)\n",
    "\n",
    "for s in list(res)[:5]:\n",
    "    print_sample(s, fb15k237_dataset, label_map)"
   ]
  },
  {
   "cell_type": "markdown",
   "id": "d61e30df",
   "metadata": {},
   "source": [
    "Doesn't really make sense. All of these are actors/singers who collaborated. So does this relation mean they won an award together?"
   ]
  },
  {
   "cell_type": "markdown",
   "id": "aff3b025",
   "metadata": {},
   "source": [
    "### Organization Founders"
   ]
  },
  {
   "cell_type": "code",
   "execution_count": 10,
   "id": "6c1937f2",
   "metadata": {},
   "outputs": [
    {
     "name": "stdout",
     "output_type": "stream",
     "text": [
      "Ronald Reagan /organization/organization_founder/organizations_founded Republican Party\n",
      "George Bernard Shaw /organization/organization_founder/organizations_founded London School of Economics\n",
      "Steven Spielberg /organization/organization_founder/organizations_founded DreamWorks Records\n",
      "Richard Branson /organization/organization_founder/organizations_founded Virgin Records\n",
      "Tom Rosenberg /organization/organization_founder/organizations_founded Lakeshore Entertainment\n"
     ]
    }
   ],
   "source": [
    "\n",
    "rel = '/organization/organization_founder/organizations_founded'\n",
    "rel_id = fb15k237_dataset.get_id_for_relation_name(rel)\n",
    "res = find_head_tail_rel(fb15k237_dataset, rel_id = rel_id)\n",
    "\n",
    "for s in list(res)[:5]:\n",
    "    print_sample(s, fb15k237_dataset, label_map)"
   ]
  },
  {
   "cell_type": "markdown",
   "id": "266b1ff6",
   "metadata": {},
   "source": [
    "We can use this!"
   ]
  },
  {
   "cell_type": "markdown",
   "id": "0fb93f6f",
   "metadata": {},
   "source": [
    "### Influenced by"
   ]
  },
  {
   "cell_type": "code",
   "execution_count": 11,
   "id": "6a3e400f",
   "metadata": {},
   "outputs": [
    {
     "name": "stdout",
     "output_type": "stream",
     "text": [
      "Iain Banks /influence/influence_node/influenced_by Ursula K. Le Guin\n",
      "Victor Hugo /influence/influence_node/influenced_by Voltaire\n",
      "Steve Miller Band /influence/influence_node/influenced_by The Beatles\n",
      "Herman Melville /influence/influence_node/influenced_by William Shakespeare\n",
      "Zach Galifianakis /influence/influence_node/influenced_by Bill Murray\n"
     ]
    }
   ],
   "source": [
    "rel = '/influence/influence_node/influenced_by'\n",
    "rel_id = fb15k237_dataset.get_id_for_relation_name(rel)\n",
    "res = find_head_tail_rel(fb15k237_dataset, rel_id = rel_id)\n",
    "\n",
    "for s in list(res)[:5]:\n",
    "    print_sample(s, fb15k237_dataset, label_map)"
   ]
  },
  {
   "cell_type": "markdown",
   "id": "4de8a578",
   "metadata": {},
   "source": [
    "This is what you get on [google](https://www.google.com/search?q=who+influenced+victor+hugo&oq=who+influenced+victor+hugo&gs_lcrp=EgZjaHJvbWUyBggAEEUYOTIHCAEQABiABDIHCAIQABiABDIHCAMQABiABDIHCAQQABiABDIHCAUQABiABDIHCAYQABiABDIHCAcQABiABDIHCAgQABiABDIHCAkQABiABNIBCDQzNTRqMGo0qAIAsAIA&sourceid=chrome&ie=UTF-8) search as well! We could use this too."
   ]
  },
  {
   "cell_type": "markdown",
   "id": "a1dbaa9c",
   "metadata": {},
   "source": [
    "### District Represented"
   ]
  },
  {
   "cell_type": "code",
   "execution_count": 14,
   "id": "b977d854",
   "metadata": {},
   "outputs": [
    {
     "name": "stdout",
     "output_type": "stream",
     "text": [
      "108th United States Congress /government/legislative_session/members./government/government_position_held/district_represented Oklahoma\n",
      "32nd United States Congress /government/legislative_session/members./government/government_position_held/district_represented Missouri\n",
      "32nd United States Congress /government/legislative_session/members./government/government_position_held/district_represented New Jersey\n",
      "113th United States Congress /government/legislative_session/members./government/government_position_held/district_represented Maine\n",
      "26th United States Congress /government/legislative_session/members./government/government_position_held/district_represented Maryland\n"
     ]
    }
   ],
   "source": [
    "preview_samples_from_rel('/government/legislative_session/members./government/government_position_held/district_represented', fb15k237_dataset, label_map)"
   ]
  },
  {
   "cell_type": "markdown",
   "id": "60083335",
   "metadata": {},
   "source": [
    "It looks like this relation is just linking congressman -> congress year -> district represented."
   ]
  },
  {
   "cell_type": "markdown",
   "id": "35693772-9f09-45c0-9792-0859a1649f10",
   "metadata": {},
   "source": [
    "### Acted In"
   ]
  },
  {
   "cell_type": "code",
   "execution_count": 4,
   "id": "46909e02",
   "metadata": {},
   "outputs": [],
   "source": [
    "acted_in = '/film/actor/film./film/performance/film'\n",
    "acted_in_id = fb15k237_dataset.get_id_for_relation_name(acted_in)"
   ]
  },
  {
   "cell_type": "code",
   "execution_count": 8,
   "id": "91b2e67b",
   "metadata": {},
   "outputs": [
    {
     "name": "stdout",
     "output_type": "stream",
     "text": [
      "Ben Affleck /film/actor/film./film/performance/film Shakespeare in Love\n",
      "Ben Affleck /film/actor/film./film/performance/film Jersey Girl\n",
      "Num overlapping facts: 0\n",
      "Ranking: [4, 3]\n",
      "\n",
      "Ben Affleck /film/actor/film./film/performance/film Shakespeare in Love\n",
      "Ben Affleck /film/actor/film./film/performance/film Pearl Harbor\n",
      "Num overlapping facts: 1\n",
      "Ranking: [4, 5]\n",
      "\n",
      "Ben Affleck /film/actor/film./film/performance/film Shakespeare in Love\n",
      "Ben Affleck /film/actor/film./film/performance/film Gigli\n",
      "Num overlapping facts: 1\n",
      "Ranking: [3, 4]\n",
      "\n",
      "George Clooney /film/actor/film./film/performance/film Ocean's Twelve\n",
      "George Clooney /film/actor/film./film/performance/film Good Night, and Good Luck.\n",
      "Num overlapping facts: 2\n",
      "Ranking: [4, 1]\n",
      "\n"
     ]
    }
   ],
   "source": [
    "import json\n",
    "with open('experiment_candidates/candidate_2.json', 'r') as f:\n",
    "    data = json.load(f)\n",
    "    for good_fact, bad_fact in experiment_inputs:\n",
    "        for candidate in data:\n",
    "            if ''.join(candidate[0]) == ''.join(good_fact) and ''.join(candidate[1]) == ''.join(bad_fact):\n",
    "                print_fact(candidate[0], label_map)\n",
    "                print_fact(candidate[1], label_map)\n",
    "                print(\"Num overlapping facts:\", end=' ')\n",
    "                print(candidate[3])\n",
    "                print(\"Ranking:\", end=' ')\n",
    "                print(candidate[2])\n",
    "                print()\n",
    "                break"
   ]
  },
  {
   "cell_type": "code",
   "execution_count": 17,
   "id": "82f858e0-f937-4e77-8614-5837d0bcd0e3",
   "metadata": {},
   "outputs": [
    {
     "name": "stdout",
     "output_type": "stream",
     "text": [
      "Ben Affleck /film/actor/film./film/performance/film Shakespeare in Love\n",
      "Ben Affleck /film/actor/film./film/performance/film Jersey Girl\n",
      "0\n",
      "[4, 3]\n",
      "\n",
      "Ben Affleck /film/actor/film./film/performance/film Shakespeare in Love\n",
      "Ben Affleck /film/actor/film./film/performance/film Pearl Harbor\n",
      "1\n",
      "[4, 5]\n",
      "\n",
      "Ben Affleck /film/actor/film./film/performance/film Shakespeare in Love\n",
      "Ben Affleck /film/actor/film./film/performance/film Gigli\n",
      "1\n",
      "[3, 4]\n",
      "\n",
      "George Clooney /film/actor/film./film/performance/film Ocean's Twelve\n",
      "George Clooney /film/actor/film./film/performance/film Good Night, and Good Luck.\n",
      "2\n",
      "[4, 1]\n",
      "\n"
     ]
    }
   ],
   "source": [
    "import json\n",
    "with open('experiment_candidates/candidate_2.json', 'r') as f:\n",
    "    data = json.load(f)\n",
    "    data.sort(key=lambda x:x[3])\n",
    "    # for candidate in data:\n",
    "    #     print_fact(candidate[0], label_map)\n",
    "    #     print_fact(candidate[1], label_map)\n",
    "    #     print(candidate[3])\n",
    "    #     print(candidate[2])\n",
    "    #     print()\n",
    "    finalist_candidates = [data[0], data[2], data[3], data[5]]\n",
    "    i = 4\n",
    "    for candidate in finalist_candidates:\n",
    "        print_fact(candidate[0], label_map)\n",
    "        print_fact(candidate[1], label_map)\n",
    "        print(candidate[3])\n",
    "        print(candidate[2])\n",
    "        print()\n",
    "        with open(f'experiment_inputs/input_{i}.txt', 'w') as outF:\n",
    "            outF.write('-'.join(candidate[0]) + '\\n')\n",
    "            outF.write('-'.join(candidate[1]))\n",
    "        i+=1"
   ]
  },
  {
   "cell_type": "markdown",
   "id": "39c27ca5-1fdc-4a33-9211-803a3d3a80b6",
   "metadata": {},
   "source": [
    "## Student of University"
   ]
  },
  {
   "cell_type": "code",
   "execution_count": 16,
   "id": "fb708c6f-0fda-4782-97f9-92e864c3956b",
   "metadata": {},
   "outputs": [],
   "source": [
    "uni_student = '/education/educational_institution/students_graduates./education/education/student'\n",
    "\n",
    "uni_student_id = fb15k237_dataset.get_id_for_relation_name(uni_student)"
   ]
  },
  {
   "cell_type": "code",
   "execution_count": null,
   "id": "26f6139a-dade-43b2-b8e0-104670e030cc",
   "metadata": {},
   "outputs": [],
   "source": [
    "# from helpers.helpers import find_suitable_candidates\n",
    "\n",
    "# train_test_valid_paths = [train_path, test_path, valid_path]\n",
    "\n",
    "# find_suitable_candidates(uni_student, \n",
    "#                          fb15k237_dataset, \n",
    "#                          train_test_valid_paths,\n",
    "#                          label_map, \n",
    "#                          'experiment_candidates/student_member_of_uni_candidates.json', \n",
    "#                          3,\n",
    "#                          3, \n",
    "#                          num_random=10)\n"
   ]
  },
  {
   "cell_type": "markdown",
   "id": "b6b16af3-c758-4358-8b0b-c66796d9c064",
   "metadata": {},
   "source": [
    "## Country is a member of which intl organization?"
   ]
  },
  {
   "cell_type": "code",
   "execution_count": 18,
   "id": "eefcc8f6-4d39-4c33-8b23-71c706e9c3e4",
   "metadata": {},
   "outputs": [],
   "source": [
    "org_mem = '/organization/organization_member/member_of./organization/organization_membership/organization'"
   ]
  },
  {
   "cell_type": "code",
   "execution_count": 19,
   "id": "42e230c1-8955-4b49-a987-407ed4c5ed8f",
   "metadata": {},
   "outputs": [
    {
     "name": "stdout",
     "output_type": "stream",
     "text": [
      "['/m/0345h', '/organization/organization_member/member_of./organization/organization_membership/organization', '/m/0b6css']\n",
      "['/m/0345h', '/organization/organization_member/member_of./organization/organization_membership/organization', '/m/01rz1']\n",
      "\n",
      "Reducing the dataset size from 272115 to 13605\n",
      "Finished generating dataset.\n",
      "Saving in file test.txt ...\n",
      "Saved dataset in file test.txt\n",
      "Good fact: ['/m/0345h', '/organization/organization_member/member_of./organization/organization_membership/organization', '/m/0b6css']\n",
      "Bad fact: ['/m/0345h', '/organization/organization_member/member_of./organization/organization_membership/organization', '/m/01rz1']\n",
      "\t saving model...\n",
      "\t done.\n",
      "['/m/0345h', '/organization/organization_member/member_of./organization/organization_membership/organization', '/m/0b6css']\n",
      "['/m/0345h', '/organization/organization_member/member_of./organization/organization_membership/organization', '/m/018cqq']\n",
      "\n",
      "Reducing the dataset size from 272115 to 13605\n",
      "Finished generating dataset.\n",
      "Saving in file test.txt ...\n",
      "Saved dataset in file test.txt\n",
      "Good fact: ['/m/0345h', '/organization/organization_member/member_of./organization/organization_membership/organization', '/m/0b6css']\n",
      "Bad fact: ['/m/0345h', '/organization/organization_member/member_of./organization/organization_membership/organization', '/m/018cqq']\n",
      "\t saving model...\n",
      "\t done.\n"
     ]
    },
    {
     "data": {
      "text/plain": [
       "[[['/m/0345h',\n",
       "   '/organization/organization_member/member_of./organization/organization_membership/organization',\n",
       "   '/m/0b6css'],\n",
       "  ['/m/0345h',\n",
       "   '/organization/organization_member/member_of./organization/organization_membership/organization',\n",
       "   '/m/018cqq'],\n",
       "  48,\n",
       "  50,\n",
       "  (3, 1)]]"
      ]
     },
     "execution_count": 19,
     "metadata": {},
     "output_type": "execute_result"
    }
   ],
   "source": [
    "from helpers.helpers import find_suitable_candidates\n",
    "\n",
    "train_test_valid_paths = [train_path, test_path, valid_path]\n",
    "\n",
    "find_suitable_candidates(org_mem, \n",
    "                         fb15k237_dataset, \n",
    "                         train_test_valid_paths,\n",
    "                         label_map, \n",
    "                         'experiment_candidates/organization_membership_candidates.json', \n",
    "                         3,\n",
    "                         3, \n",
    "                         num_random=10)\n"
   ]
  },
  {
   "cell_type": "markdown",
   "id": "30a28375-f7ed-4dc3-a98e-c969bf83e660",
   "metadata": {},
   "source": [
    "## Film genre"
   ]
  },
  {
   "cell_type": "code",
   "execution_count": 20,
   "id": "e61056fa-3d44-4cad-9c82-b09388fefe49",
   "metadata": {},
   "outputs": [],
   "source": [
    "film_genre = '/film/film/genre'"
   ]
  },
  {
   "cell_type": "code",
   "execution_count": 21,
   "id": "cf25b6d2-a74d-40ac-912e-dc4dcc2b273c",
   "metadata": {},
   "outputs": [
    {
     "name": "stdout",
     "output_type": "stream",
     "text": [
      "['/m/0df2zx', '/film/film/genre', '/m/09q17']\n",
      "['/m/0df2zx', '/film/film/genre', '/m/0jtdp']\n",
      "\n",
      "Reducing the dataset size from 272115 to 13605\n",
      "Finished generating dataset.\n",
      "Saving in file test.txt ...\n",
      "Saved dataset in file test.txt\n",
      "Good fact: ['/m/0df2zx', '/film/film/genre', '/m/09q17']\n",
      "Bad fact: ['/m/0df2zx', '/film/film/genre', '/m/0jtdp']\n",
      "\t saving model...\n",
      "\t done.\n",
      "['/m/0bmc4cm', '/film/film/genre', '/m/06l3bl']\n",
      "['/m/0bmc4cm', '/film/film/genre', '/m/03q4nz']\n",
      "\n",
      "Reducing the dataset size from 272115 to 13605\n",
      "Finished generating dataset.\n",
      "Saving in file test.txt ...\n",
      "Saved dataset in file test.txt\n",
      "Good fact: ['/m/0bmc4cm', '/film/film/genre', '/m/06l3bl']\n",
      "Bad fact: ['/m/0bmc4cm', '/film/film/genre', '/m/03q4nz']\n",
      "\t saving model...\n",
      "\t done.\n",
      "['/m/07sp4l', '/film/film/genre', '/m/01hmnh']\n",
      "['/m/07sp4l', '/film/film/genre', '/m/02kdv5l']\n",
      "\n",
      "Reducing the dataset size from 272115 to 13605\n",
      "Finished generating dataset.\n",
      "Saving in file test.txt ...\n",
      "Saved dataset in file test.txt\n",
      "Good fact: ['/m/07sp4l', '/film/film/genre', '/m/01hmnh']\n",
      "Bad fact: ['/m/07sp4l', '/film/film/genre', '/m/02kdv5l']\n",
      "\t saving model...\n",
      "\t done.\n"
     ]
    },
    {
     "data": {
      "text/plain": [
       "[[['/m/0df2zx', '/film/film/genre', '/m/09q17'],\n",
       "  ['/m/0df2zx', '/film/film/genre', '/m/0jtdp'],\n",
       "  46,\n",
       "  45,\n",
       "  (1, 2)],\n",
       " [['/m/07sp4l', '/film/film/genre', '/m/01hmnh'],\n",
       "  ['/m/07sp4l', '/film/film/genre', '/m/02kdv5l'],\n",
       "  431,\n",
       "  430,\n",
       "  (1, 2)]]"
      ]
     },
     "execution_count": 21,
     "metadata": {},
     "output_type": "execute_result"
    }
   ],
   "source": [
    "from helpers.helpers import find_suitable_candidates\n",
    "\n",
    "train_test_valid_paths = [train_path, test_path, valid_path]\n",
    "\n",
    "find_suitable_candidates(film_genre, \n",
    "                         fb15k237_dataset, \n",
    "                         train_test_valid_paths,\n",
    "                         label_map, \n",
    "                         'experiment_candidates/film_genre_candidates.json', \n",
    "                         3,\n",
    "                         3, \n",
    "                         num_random=10)\n"
   ]
  },
  {
   "cell_type": "markdown",
   "id": "2cb3c58d-7057-4dc8-9b2c-35fe6ea05da5",
   "metadata": {},
   "source": [
    "## WN18RR select candidates"
   ]
  },
  {
   "cell_type": "code",
   "execution_count": 21,
   "id": "51a5fd69-cbc2-411f-a9d2-c2531112937c",
   "metadata": {},
   "outputs": [],
   "source": [
    "\n",
    "wn18rr_path = 'Kelpie_package/Kelpie/data/WN18RR_text'\n",
    "train_path = wn18rr_path + '/train.txt'\n",
    "test_path = wn18rr_path + '/test.txt'\n",
    "valid_path = wn18rr_path + '/valid.txt'\n",
    "wn18rr_dataset = Dataset(name=\"WN18RR\", load=True, train_path=train_path, test_path=test_path, valid_path=valid_path)\n",
    "\n",
    "train_test_valid_paths = [train_path, test_path, valid_path]\n",
    "# label_map_path = 'entity2wikidata.json'\n",
    "# label_map = json.load(open(label_map_path))"
   ]
  },
  {
   "cell_type": "code",
   "execution_count": 22,
   "id": "44e01fd7",
   "metadata": {},
   "outputs": [
    {
     "name": "stdout",
     "output_type": "stream",
     "text": [
      "_member_meronym\n",
      "_member_of_domain_usage\n",
      "_member_of_domain_region\n"
     ]
    }
   ],
   "source": [
    "ids = []\n",
    "for idx in wn18rr_dataset.relation_2_type:\n",
    "    if wn18rr_dataset.relation_2_type[idx] == '1-N':\n",
    "        ids.append(idx)\n",
    "        print(wn18rr_dataset.get_name_for_relation_id(idx))"
   ]
  },
  {
   "cell_type": "code",
   "execution_count": 23,
   "id": "2ddf813b",
   "metadata": {},
   "outputs": [
    {
     "name": "stdout",
     "output_type": "stream",
     "text": [
      "('lycium.n.01', '_member_meronym', 'christmasberry.n.01')\n",
      "('hamamelidae.n.01', '_member_meronym', 'hamamelidaceae.n.01')\n",
      "('genus_luffa.n.01', '_member_meronym', 'luffa.n.02')\n",
      "('cracticidae.n.01', '_member_meronym', 'strepera.n.01')\n",
      "('chamaemelum.n.01', '_member_meronym', 'chamomile.n.01')\n"
     ]
    }
   ],
   "source": [
    "preview_samples_from_rel('_member_meronym', dataset=wn18rr_dataset, label_map=None)"
   ]
  },
  {
   "cell_type": "code",
   "execution_count": 24,
   "id": "a8901a1b",
   "metadata": {},
   "outputs": [
    {
     "name": "stdout",
     "output_type": "stream",
     "text": [
      "_derivationally_related_form\n",
      "_instance_hypernym\n",
      "_also_see\n",
      "_has_part\n"
     ]
    }
   ],
   "source": [
    "ids = []\n",
    "for idx in wn18rr_dataset.relation_2_type:\n",
    "    if wn18rr_dataset.relation_2_type[idx] == 'N-N':\n",
    "        ids.append(idx)\n",
    "        print(wn18rr_dataset.get_name_for_relation_id(idx))"
   ]
  },
  {
   "cell_type": "code",
   "execution_count": null,
   "id": "5ae7f591",
   "metadata": {},
   "outputs": [],
   "source": []
  }
 ],
 "metadata": {
  "kernelspec": {
   "display_name": "new-env",
   "language": "python",
   "name": "python3"
  },
  "language_info": {
   "codemirror_mode": {
    "name": "ipython",
    "version": 3
   },
   "file_extension": ".py",
   "mimetype": "text/x-python",
   "name": "python",
   "nbconvert_exporter": "python",
   "pygments_lexer": "ipython3",
   "version": "3.9.18 (main, Sep 11 2023, 13:41:44) \n[GCC 11.2.0]"
  },
  "vscode": {
   "interpreter": {
    "hash": "70e9c347fe6d8c837c39563f6b57b9bb17688326dd0c9291324347ac38a29d61"
   }
  }
 },
 "nbformat": 4,
 "nbformat_minor": 5
}
