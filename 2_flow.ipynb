{
 "cells": [
  {
   "cell_type": "code",
   "execution_count": null,
   "id": "394ec969-72b1-43e1-b143-23fb0460bf36",
   "metadata": {},
   "outputs": [],
   "source": [
    "results_folder = \"./results/generated_candidates/FB15k-237\"\n",
    "\n"
   ]
  }
 ],
 "metadata": {
  "kernelspec": {
   "display_name": "jr-env",
   "language": "python",
   "name": "jr-env"
  },
  "language_info": {
   "codemirror_mode": {
    "name": "ipython",
    "version": 3
   },
   "file_extension": ".py",
   "mimetype": "text/x-python",
   "name": "python",
   "nbconvert_exporter": "python",
   "pygments_lexer": "ipython3",
   "version": "3.9.12"
  }
 },
 "nbformat": 4,
 "nbformat_minor": 5
}
